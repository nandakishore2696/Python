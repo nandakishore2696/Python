{
 "cells": [
  {
   "cell_type": "markdown",
   "metadata": {},
   "source": [
    "## if else statement"
   ]
  },
  {
   "cell_type": "code",
   "execution_count": 1,
   "metadata": {},
   "outputs": [
    {
     "name": "stdout",
     "output_type": "stream",
     "text": [
      "Incorrect details\n"
     ]
    }
   ],
   "source": [
    "# correct email - nanda@gmail.com\n",
    "# password = 12345\n",
    "\n",
    "email = input(\"Enter email\")\n",
    "password = input(\"Enter password\")\n",
    "\n",
    "if email == 'nanda@gmail.com' and password == '12345':\n",
    "    print(\"Welcome\")\n",
    "else:\n",
    "    print(\"Incorrect details\")"
   ]
  },
  {
   "cell_type": "code",
   "execution_count": 2,
   "metadata": {},
   "outputs": [
    {
     "name": "stdout",
     "output_type": "stream",
     "text": [
      "Incorrect details\n"
     ]
    }
   ],
   "source": [
    "if email == 'nanda@gmail.com':\n",
    "    if password == '12345':\n",
    "        print(\"Welcome\")\n",
    "else:\n",
    "    print(\"Incorrect details\")"
   ]
  },
  {
   "cell_type": "code",
   "execution_count": 4,
   "metadata": {},
   "outputs": [
    {
     "name": "stdout",
     "output_type": "stream",
     "text": [
      "password incorrect\n"
     ]
    }
   ],
   "source": [
    "# if is the starting one , else is the last statement and elif is the middle statement\n",
    "\n",
    "email = input(\"Enter email\")\n",
    "password = input(\"Enter password\")\n",
    "\n",
    "if email == 'nanda@gmail.com' and password == '12345':\n",
    "    print(\"Welcome\")\n",
    "\n",
    "elif email != 'nanda@gmail.com' and password == '12345':\n",
    "    print('Email incorrect')\n",
    "elif email == 'nanda@gmail.com' and password != '12345':\n",
    "    print('password incorrect')\n",
    "else:\n",
    "    print(\"Incorrect details\")"
   ]
  },
  {
   "cell_type": "markdown",
   "metadata": {},
   "source": [
    "### Indentation"
   ]
  },
  {
   "cell_type": "code",
   "execution_count": null,
   "metadata": {},
   "outputs": [],
   "source": [
    "# press tab - will get indentation\n",
    "# only one tab press, don't press spaces\n",
    "# python developers want's to improve code readability - main reason"
   ]
  },
  {
   "cell_type": "markdown",
   "metadata": {},
   "source": [
    "## Loop\n",
    "* uses - Flipkart,zomato \n",
    "* while, For\n",
    "\n",
    "### While"
   ]
  },
  {
   "cell_type": "code",
   "execution_count": 5,
   "metadata": {},
   "outputs": [
    {
     "name": "stdout",
     "output_type": "stream",
     "text": [
      "5\n",
      "4\n",
      "3\n",
      "2\n",
      "1\n"
     ]
    }
   ],
   "source": [
    "#while condition: - until condition true code executes\n",
    "#    Code\n",
    "\n",
    "number = int(input(\"Enter Number\"))\n",
    "\n",
    "while number != 0:\n",
    "    print(number)\n",
    "    number -= 1"
   ]
  },
  {
   "cell_type": "markdown",
   "metadata": {},
   "source": [
    "### Guessing Game"
   ]
  },
  {
   "cell_type": "code",
   "execution_count": 4,
   "metadata": {},
   "outputs": [
    {
     "name": "stdout",
     "output_type": "stream",
     "text": [
      "50 Guess Lower\n",
      "40 Guess Lower\n",
      "30 Guess Lower\n",
      "20 Guess Higher\n",
      "25 Guess Lower\n",
      "22 Guess Higher\n",
      "23 Guess Higher\n",
      "correct\n",
      "Number of attempts 8\n"
     ]
    }
   ],
   "source": [
    "import random\n",
    "\n",
    "jackpot = random.randint(1,100)\n",
    "\n",
    "guess = int(input(\"Guess Number\"))\n",
    "\n",
    "counter = 1\n",
    "while guess != jackpot:\n",
    "    if guess < jackpot:\n",
    "        print(guess,\"Guess Higher\")\n",
    "    else:\n",
    "        print(guess,\"Guess Lower\")\n",
    "\n",
    "    guess = int(input(\"Guess Number\"))\n",
    "    counter += 1\n",
    "\n",
    "\n",
    "print('correct')\n",
    "print('Number of attempts : ', counter)"
   ]
  },
  {
   "cell_type": "markdown",
   "metadata": {},
   "source": [
    "### For loop\n",
    "* Iterates on range or sequence like - strings, list, tuples, dictionaries,.....\n",
    "* No tremination condition like while loop"
   ]
  },
  {
   "cell_type": "code",
   "execution_count": 12,
   "metadata": {},
   "outputs": [
    {
     "name": "stdout",
     "output_type": "stream",
     "text": [
      "[1, 2, 3, 4, 5, 6, 7, 8, 9, 10]\n",
      "[0, 1, 2, 3, 4]\n",
      "[1, 3, 5, 7, 9]\n",
      "[10, 8, 6, 4, 2]\n"
     ]
    }
   ],
   "source": [
    "# range function\n",
    "print(list(range(1,11)))\n",
    "print(list(range(5)))\n",
    "print(list(range(1,11,2)))\n",
    "print(list(range(10,0,-2)))"
   ]
  },
  {
   "cell_type": "code",
   "execution_count": 15,
   "metadata": {},
   "outputs": [
    {
     "name": "stdout",
     "output_type": "stream",
     "text": [
      "['n', 'a', 'n', 'd', 'a']\n",
      "['nanda', 'kishore', 'reddy']\n",
      "('nanda', 'kishore', 'reddy')\n"
     ]
    }
   ],
   "source": [
    "# Sequence\n",
    "print(list('nanda'))\n",
    "print(['nanda','kishore','reddy'])\n",
    "print(('nanda','kishore','reddy'))"
   ]
  },
  {
   "cell_type": "code",
   "execution_count": 17,
   "metadata": {},
   "outputs": [
    {
     "name": "stdout",
     "output_type": "stream",
     "text": [
      "1\n",
      "3\n",
      "5\n",
      "7\n",
      "9\n"
     ]
    }
   ],
   "source": [
    "for i in range(1,10,2):\n",
    "    print(i)"
   ]
  },
  {
   "cell_type": "code",
   "execution_count": 18,
   "metadata": {},
   "outputs": [
    {
     "name": "stdout",
     "output_type": "stream",
     "text": [
      "n\n",
      "a\n",
      "n\n",
      "d\n",
      "a\n"
     ]
    }
   ],
   "source": [
    "for i in 'nanda':\n",
    "    print(i)"
   ]
  },
  {
   "cell_type": "code",
   "execution_count": 19,
   "metadata": {},
   "outputs": [
    {
     "name": "stdout",
     "output_type": "stream",
     "text": [
      "1\n",
      "2\n",
      "3\n",
      "4\n",
      "5\n"
     ]
    }
   ],
   "source": [
    "\n",
    "for i in [1,2,3,4,5]:\n",
    "    print(i)"
   ]
  },
  {
   "cell_type": "code",
   "execution_count": 20,
   "metadata": {},
   "outputs": [
    {
     "name": "stdout",
     "output_type": "stream",
     "text": [
      "1\n",
      "2\n",
      "3\n"
     ]
    }
   ],
   "source": [
    "for i in (1,2,3):\n",
    "    print(i)"
   ]
  },
  {
   "cell_type": "markdown",
   "metadata": {},
   "source": [
    "### Nested Loops"
   ]
  },
  {
   "cell_type": "code",
   "execution_count": 22,
   "metadata": {},
   "outputs": [
    {
     "name": "stdout",
     "output_type": "stream",
     "text": [
      "*\n",
      "**\n",
      "***\n",
      "****\n",
      "*****\n",
      "******\n"
     ]
    }
   ],
   "source": [
    "num = int(input('Enter number of rows'))\n",
    "for i in range(num):\n",
    "    print('*'*(i+1))"
   ]
  },
  {
   "cell_type": "code",
   "execution_count": 26,
   "metadata": {},
   "outputs": [
    {
     "name": "stdout",
     "output_type": "stream",
     "text": [
      "* ** *** **** ***** "
     ]
    }
   ],
   "source": [
    "num = int(input('Enter number of rows'))\n",
    "for i in range(num):\n",
    "    print('*'*(i+1))"
   ]
  },
  {
   "cell_type": "code",
   "execution_count": 23,
   "metadata": {},
   "outputs": [
    {
     "name": "stdout",
     "output_type": "stream",
     "text": [
      "* \n",
      "* * \n",
      "* * * \n",
      "* * * * \n"
     ]
    }
   ],
   "source": [
    "num = int(input())\n",
    "\n",
    "for i in range(1,num+1):\n",
    "    for j in range(0,i):\n",
    "        print('*', end=' ')\n",
    "    print('')"
   ]
  },
  {
   "cell_type": "markdown",
   "metadata": {},
   "source": [
    "## Break, continue, Pass\n",
    "\n",
    "* used with loops\n",
    "* useful in linear search\n",
    "### Break - breaks the corresponding loop"
   ]
  },
  {
   "cell_type": "code",
   "execution_count": 27,
   "metadata": {},
   "outputs": [
    {
     "name": "stdout",
     "output_type": "stream",
     "text": [
      "1\n",
      "2\n",
      "3\n",
      "4\n"
     ]
    }
   ],
   "source": [
    "for i in range(1,11):\n",
    "    if i == 5:\n",
    "        break\n",
    "    print(i)"
   ]
  },
  {
   "cell_type": "code",
   "execution_count": 32,
   "metadata": {},
   "outputs": [
    {
     "name": "stdout",
     "output_type": "stream",
     "text": [
      "1\n",
      "2\n",
      "4\n",
      "5\n"
     ]
    }
   ],
   "source": [
    "for i in range(1,6):\n",
    "    if i == 3:\n",
    "        continue\n",
    "    print(i)"
   ]
  },
  {
   "cell_type": "code",
   "execution_count": 34,
   "metadata": {},
   "outputs": [
    {
     "name": "stdout",
     "output_type": "stream",
     "text": [
      "1\n",
      "2\n",
      "3\n",
      "4\n",
      "5\n"
     ]
    }
   ],
   "source": [
    "for i in range(1,6):\n",
    "    if i == 5:\n",
    "        pass\n",
    "    print(i)"
   ]
  },
  {
   "cell_type": "code",
   "execution_count": null,
   "metadata": {},
   "outputs": [],
   "source": []
  }
 ],
 "metadata": {
  "kernelspec": {
   "display_name": "base",
   "language": "python",
   "name": "python3"
  },
  "language_info": {
   "codemirror_mode": {
    "name": "ipython",
    "version": 3
   },
   "file_extension": ".py",
   "mimetype": "text/x-python",
   "name": "python",
   "nbconvert_exporter": "python",
   "pygments_lexer": "ipython3",
   "version": "3.9.13"
  }
 },
 "nbformat": 4,
 "nbformat_minor": 2
}
