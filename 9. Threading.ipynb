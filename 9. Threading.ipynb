{
 "cells": [
  {
   "cell_type": "markdown",
   "metadata": {},
   "source": [
    "# Threading"
   ]
  },
  {
   "cell_type": "markdown",
   "metadata": {},
   "source": [
    "![Image Title](multithreading.png) ![Image Title](How.png)"
   ]
  },
  {
   "cell_type": "code",
   "execution_count": 4,
   "metadata": {},
   "outputs": [
    {
     "name": "stdout",
     "output_type": "stream",
     "text": [
      "Going to sleep\n",
      "Wokes up\n",
      "Going to sleep\n",
      "Wokes up\n",
      "Main Thread Ended in 2.0140490531921387\n"
     ]
    }
   ],
   "source": [
    "from time import sleep,time\n",
    "\n",
    "start_time = time()\n",
    "def something():\n",
    "    print('Going to sleep')\n",
    "    sleep(1)\n",
    "    print('Wokes up')\n",
    "\n",
    "something()\n",
    "something()\n",
    "\n",
    "end_time = time()\n",
    "\n",
    "print('Main Thread Ended in {}'.format(end_time-start_time))\n"
   ]
  },
  {
   "cell_type": "code",
   "execution_count": 5,
   "metadata": {},
   "outputs": [
    {
     "name": "stdout",
     "output_type": "stream",
     "text": [
      "Going to sleep\n",
      "Wokes up\n",
      "Going to sleep\n",
      "Wokes up\n",
      "Going to sleep\n",
      "Wokes up\n",
      "Going to sleep\n",
      "Wokes up\n",
      "Going to sleep\n",
      "Wokes up\n",
      "Going to sleep\n",
      "Wokes up\n",
      "Going to sleep\n",
      "Wokes up\n",
      "Going to sleep\n",
      "Wokes up\n",
      "Going to sleep\n",
      "Wokes up\n",
      "Going to sleep\n",
      "Wokes up\n",
      "Main Thread Ended in 10.086002588272095\n"
     ]
    }
   ],
   "source": [
    "from time import sleep,time\n",
    "\n",
    "start_time = time()\n",
    "def something():\n",
    "    print('Going to sleep')\n",
    "    sleep(1)\n",
    "    print('Wokes up')\n",
    "\n",
    "for _ in range(10):\n",
    "    something()\n",
    "\n",
    "end_time = time()\n",
    "\n",
    "print('Main Thread Ended in {}'.format(end_time-start_time))\n"
   ]
  },
  {
   "cell_type": "code",
   "execution_count": 6,
   "metadata": {},
   "outputs": [
    {
     "name": "stdout",
     "output_type": "stream",
     "text": [
      "Going to sleep..0\n",
      "Main Thread Ended in 0.004998922348022461 seconds\n"
     ]
    },
    {
     "name": "stdout",
     "output_type": "stream",
     "text": [
      "Wokes up..0\n"
     ]
    }
   ],
   "source": [
    "from time import sleep,time\n",
    "import threading\n",
    "\n",
    "start_time = time()\n",
    "def something(id):\n",
    "    print(f'Going to sleep..{id}')\n",
    "    sleep(1)\n",
    "    print(f'Wokes up..{id}')\n",
    "\n",
    "t1 = threading.Thread(target=something, args=[0])\n",
    "t1.start()\n",
    "\n",
    "end_time = time()\n",
    "\n",
    "print('Main Thread Ended in {} seconds'.format(end_time-start_time))\n"
   ]
  },
  {
   "cell_type": "code",
   "execution_count": 7,
   "metadata": {},
   "outputs": [
    {
     "name": "stdout",
     "output_type": "stream",
     "text": [
      "Going to sleep..0\n",
      "Wokes up..0\n",
      "Main Thread Ended in 1.0164480209350586 seconds\n"
     ]
    }
   ],
   "source": [
    "from time import sleep,time\n",
    "import threading\n",
    "\n",
    "start_time = time()\n",
    "def something(id):\n",
    "    print(f'Going to sleep..{id}')\n",
    "    sleep(1)\n",
    "    print(f'Wokes up..{id}')\n",
    "\n",
    "t1 = threading.Thread(target=something, args=[0])\n",
    "t1.start()\n",
    "\n",
    "t1.join()\n",
    "end_time = time()\n",
    "\n",
    "print('Main Thread Ended in {} seconds'.format(end_time-start_time))\n"
   ]
  },
  {
   "cell_type": "code",
   "execution_count": 8,
   "metadata": {},
   "outputs": [
    {
     "name": "stdout",
     "output_type": "stream",
     "text": [
      "Going to sleep..0\n",
      "Going to sleep..1\n",
      "Wokes up..1Wokes up..0\n",
      "Main Thread Ended in 1.0244956016540527 seconds\n",
      "\n"
     ]
    }
   ],
   "source": [
    "from time import sleep,time\n",
    "import threading\n",
    "\n",
    "start_time = time()\n",
    "def something(id):\n",
    "    print(f'Going to sleep..{id}')\n",
    "    sleep(1)\n",
    "    print(f'Wokes up..{id}')\n",
    "\n",
    "t1 = threading.Thread(target=something, args=[0])\n",
    "t2 = threading.Thread(target=something, args=[1])\n",
    "\n",
    "t1.start()\n",
    "t2.start()\n",
    "\n",
    "t1.join()\n",
    "end_time = time()\n",
    "\n",
    "print('Main Thread Ended in {} seconds'.format(end_time-start_time))\n"
   ]
  },
  {
   "cell_type": "code",
   "execution_count": 9,
   "metadata": {},
   "outputs": [
    {
     "name": "stdout",
     "output_type": "stream",
     "text": [
      "Going to sleep..0\n",
      "Going to sleep..1\n",
      "Wokes up..1\n",
      "Wokes up..0\n",
      "Main Thread Ended in 1.0260097980499268 seconds\n"
     ]
    }
   ],
   "source": [
    "from time import sleep,time\n",
    "import threading\n",
    "\n",
    "start_time = time()\n",
    "def something(id):\n",
    "    print(f'Going to sleep..{id}')\n",
    "    sleep(1)\n",
    "    print(f'Wokes up..{id}')\n",
    "\n",
    "t1 = threading.Thread(target=something, args=[0])\n",
    "t2 = threading.Thread(target=something, args=[1])\n",
    "\n",
    "t1.start()\n",
    "t2.start()\n",
    "\n",
    "t1.join()\n",
    "t2.join()\n",
    "end_time = time()\n",
    "\n",
    "print('Main Thread Ended in {} seconds'.format(end_time-start_time))\n"
   ]
  },
  {
   "cell_type": "code",
   "execution_count": 11,
   "metadata": {},
   "outputs": [
    {
     "name": "stdout",
     "output_type": "stream",
     "text": [
      "Going to sleep..0\n",
      "Going to sleep..1\n",
      "Going to sleep..2\n",
      "Going to sleep..3\n",
      "Going to sleep..4\n",
      "Going to sleep..5\n",
      "Going to sleep..6\n",
      "Going to sleep..7\n",
      "Going to sleep..8\n",
      "Going to sleep..9\n",
      "Wokes up..9Wokes up..7\n",
      "Wokes up..5\n",
      "Wokes up..4\n",
      "Wokes up..2\n",
      "Wokes up..1\n",
      "Wokes up..0\n",
      "Wokes up..8\n",
      "Wokes up..6\n",
      "Wokes up..3\n",
      "\n",
      "Main Thread Ended in 1.0331778526306152 seconds\n"
     ]
    }
   ],
   "source": [
    "from time import sleep,time\n",
    "import threading\n",
    "\n",
    "start_time = time()\n",
    "def something(id):\n",
    "    print(f'Going to sleep..{id}')\n",
    "    sleep(1)\n",
    "    print(f'Wokes up..{id}')\n",
    "\n",
    "threads = [threading.Thread(target=something, args=[i]) for i in range(10)]\n",
    "\n",
    "for thread in threads:\n",
    "    thread.start()\n",
    "\n",
    "for thread in threads:\n",
    "    thread.join()\n",
    "\n",
    "end_time = time()\n",
    "\n",
    "print('Main Thread Ended in {} seconds'.format(end_time-start_time))\n"
   ]
  },
  {
   "cell_type": "code",
   "execution_count": 13,
   "metadata": {},
   "outputs": [
    {
     "name": "stdout",
     "output_type": "stream",
     "text": [
      "200\n"
     ]
    }
   ],
   "source": [
    "import threading\n",
    "\n",
    "balance = 200\n",
    "\n",
    "def deposit(amount, times):\n",
    "    global balance\n",
    "    for _ in range(times):\n",
    "        balance += amount\n",
    "\n",
    "def withdraw(amount, times):\n",
    "    global balance\n",
    "\n",
    "    for _ in range(times):\n",
    "        balance -= amount\n",
    "\n",
    "deposit_thread = threading.Thread(target= deposit, args=[1,100])\n",
    "withdraw_thread = threading.Thread(target=withdraw, args=[1,100])\n",
    "\n",
    "deposit_thread.start()\n",
    "withdraw_thread.start()\n",
    "\n",
    "deposit_thread.join()\n",
    "withdraw_thread.join()\n",
    "\n",
    "print(balance)"
   ]
  },
  {
   "cell_type": "code",
   "execution_count": 18,
   "metadata": {},
   "outputs": [
    {
     "name": "stdout",
     "output_type": "stream",
     "text": [
      "151427\n"
     ]
    }
   ],
   "source": [
    "import threading\n",
    "\n",
    "balance = 200\n",
    "\n",
    "def deposit(amount, times):\n",
    "    global balance\n",
    "    for _ in range(times):\n",
    "        balance += amount\n",
    "\n",
    "def withdraw(amount, times):\n",
    "    global balance\n",
    "\n",
    "    for _ in range(times):\n",
    "        balance -= amount\n",
    "\n",
    "deposit_thread = threading.Thread(target= deposit, args=[1,1000000])\n",
    "withdraw_thread = threading.Thread(target=withdraw, args=[1,1000000])\n",
    "\n",
    "deposit_thread.start()\n",
    "withdraw_thread.start()\n",
    "\n",
    "deposit_thread.join()\n",
    "withdraw_thread.join()\n",
    "\n",
    "print(balance) # Change due to updating in different threads"
   ]
  },
  {
   "cell_type": "code",
   "execution_count": 19,
   "metadata": {},
   "outputs": [
    {
     "name": "stdout",
     "output_type": "stream",
     "text": [
      "4555657\n"
     ]
    }
   ],
   "source": [
    "import threading\n",
    "\n",
    "balance = 200\n",
    "\n",
    "def deposit(amount, times):\n",
    "    global balance\n",
    "    for _ in range(times):\n",
    "        balance += amount\n",
    "\n",
    "def withdraw(amount, times):\n",
    "    global balance\n",
    "\n",
    "    for _ in range(times):\n",
    "        balance -= amount\n",
    "\n",
    "deposit_thread = threading.Thread(target= deposit, args=[1,100000000])\n",
    "withdraw_thread = threading.Thread(target=withdraw, args=[1,100000000])\n",
    "\n",
    "deposit_thread.start()\n",
    "withdraw_thread.start()\n",
    "\n",
    "deposit_thread.join()\n",
    "withdraw_thread.join()\n",
    "\n",
    "print(balance) # Change due to updating in different threads"
   ]
  },
  {
   "cell_type": "code",
   "execution_count": 22,
   "metadata": {},
   "outputs": [
    {
     "name": "stderr",
     "output_type": "stream",
     "text": [
      "Exception in thread Thread-39:\n",
      "Traceback (most recent call last):\n",
      "  File \"c:\\ProgramData\\Anaconda3\\lib\\threading.py\", line 980, in _bootstrap_inner\n",
      "Exception in thread Thread-40:\n",
      "Traceback (most recent call last):\n",
      "  File \"c:\\ProgramData\\Anaconda3\\lib\\threading.py\", line 980, in _bootstrap_inner\n",
      "    self.run()\n",
      "  File \"c:\\ProgramData\\Anaconda3\\lib\\threading.py\", line 917, in run\n",
      "    self._target(*self._args, **self._kwargs)\n",
      "TypeError: withdraw() missing 1 required positional argument: 'lock'\n",
      "    self.run()\n",
      "  File \"c:\\ProgramData\\Anaconda3\\lib\\threading.py\", line 917, in run\n",
      "    self._target(*self._args, **self._kwargs)\n",
      "TypeError: deposit() missing 1 required positional argument: 'lock'\n"
     ]
    },
    {
     "name": "stdout",
     "output_type": "stream",
     "text": [
      "200\n"
     ]
    }
   ],
   "source": [
    "import threading\n",
    "\n",
    "balance = 200\n",
    "\n",
    "lock = threading.Lock()\n",
    "\n",
    "def deposit(amount, times, lock):\n",
    "    global balance\n",
    "    for _ in range(times):\n",
    "        lock.acquire()\n",
    "        balance += amount\n",
    "        lock.release()\n",
    "\n",
    "def withdraw(amount, times, lock):\n",
    "    global balance\n",
    "\n",
    "    for _ in range(times):\n",
    "        lock.acquire()\n",
    "        balance -= amount\n",
    "        lock.release()\n",
    "\n",
    "deposit_thread = threading.Thread(target= deposit, args=[1,100000000])\n",
    "withdraw_thread = threading.Thread(target=withdraw, args=[1,100000000])\n",
    "\n",
    "deposit_thread.start()\n",
    "withdraw_thread.start()\n",
    "\n",
    "deposit_thread.join()\n",
    "withdraw_thread.join()\n",
    "\n",
    "print(balance) # Change due to updating in different threads"
   ]
  },
  {
   "cell_type": "code",
   "execution_count": null,
   "metadata": {},
   "outputs": [],
   "source": []
  }
 ],
 "metadata": {
  "kernelspec": {
   "display_name": "base",
   "language": "python",
   "name": "python3"
  },
  "language_info": {
   "codemirror_mode": {
    "name": "ipython",
    "version": 3
   },
   "file_extension": ".py",
   "mimetype": "text/x-python",
   "name": "python",
   "nbconvert_exporter": "python",
   "pygments_lexer": "ipython3",
   "version": "3.9.13"
  }
 },
 "nbformat": 4,
 "nbformat_minor": 2
}
